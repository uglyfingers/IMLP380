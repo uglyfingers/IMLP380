{
 "cells": [
  {
   "cell_type": "code",
   "execution_count": 1,
   "id": "5ca474ea",
   "metadata": {},
   "outputs": [
    {
     "name": "stdout",
     "output_type": "stream",
     "text": [
      "請輸入 0 <?< 100 範圍內數字:50\n",
      "大一點，已經猜了1次\n",
      "請輸入 50 <?< 100 範圍內數字:40\n",
      "請重新輸入，已經猜了2次\n",
      "請輸入 50 <?< 100 範圍內數字:55\n",
      "大一點，已經猜了3次\n",
      "請輸入 55 <?< 100 範圍內數字:60\n",
      "大一點，已經猜了4次\n",
      "請輸入 60 <?< 100 範圍內數字:90\n",
      "小一點，已經猜了5次\n",
      "請輸入 60 <?< 90 範圍內數字:99\n",
      "請重新輸入，已經猜了6次\n",
      "請輸入 60 <?< 90 範圍內數字:80\n",
      "大一點，已經猜了7次\n",
      "請輸入 80 <?< 90 範圍內數字:88\n",
      "小一點，已經猜了8次\n",
      "請輸入 80 <?< 88 範圍內數字:84\n",
      "小一點，已經猜了9次\n",
      "請輸入 80 <?< 84 範圍內數字:86\n",
      "請重新輸入，已經猜了10次\n",
      "請輸入 80 <?< 84 範圍內數字:83\n",
      "答對了,總共猜了11次\n"
     ]
    }
   ],
   "source": [
    "import random\n",
    "\n",
    "# 程式變數初始變化\n",
    "Max = 100\n",
    "Min = 0\n",
    "ans = random.randint(1,100)\n",
    "count = 0\n",
    "while True:\n",
    "    print(\"請輸入\",Min,\"<?<\",Max,\"範圍內數字:\",end=\"\")\n",
    "    guess = int(input())\n",
    "    count += 1\n",
    "    if guess == ans:\n",
    "        print(\"答對了,總共猜了%d次\"%(count))\n",
    "        break\n",
    "    \n",
    "    elif guess > Max or guess < Min:\n",
    "        print(\"請重新輸入，已經猜了%d次\"%(count))\n",
    "\n",
    "    elif guess > ans:\n",
    "        Max = guess\n",
    "        print(\"小一點，已經猜了%d次\"%(count))\n",
    "\n",
    "    else:\n",
    "        Min = guess\n",
    "        print(\"大一點，已經猜了%d次\"%(count))"
   ]
  },
  {
   "cell_type": "code",
   "execution_count": null,
   "id": "16028f6f",
   "metadata": {},
   "outputs": [],
   "source": []
  }
 ],
 "metadata": {
  "kernelspec": {
   "display_name": "Python 3 (ipykernel)",
   "language": "python",
   "name": "python3"
  },
  "language_info": {
   "codemirror_mode": {
    "name": "ipython",
    "version": 3
   },
   "file_extension": ".py",
   "mimetype": "text/x-python",
   "name": "python",
   "nbconvert_exporter": "python",
   "pygments_lexer": "ipython3",
   "version": "3.9.13"
  }
 },
 "nbformat": 4,
 "nbformat_minor": 5
}
